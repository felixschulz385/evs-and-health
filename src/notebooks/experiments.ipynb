{
 "cells": [
  {
   "cell_type": "markdown",
   "id": "8a4c3da0",
   "metadata": {},
   "source": [
    "# Import SSBClient\n",
    "Import the SSBClient class for querying the SSB API."
   ]
  },
  {
   "cell_type": "code",
   "execution_count": 28,
   "id": "19108efe",
   "metadata": {},
   "outputs": [],
   "source": [
    "import sys\n",
    "import pandas as pd\n",
    "import numpy as np\n",
    "sys.path.append('../common/ssb')\n",
    "from client import SSBClient"
   ]
  },
  {
   "cell_type": "markdown",
   "id": "b69810f8",
   "metadata": {},
   "source": [
    "# Query SSB API with patients.json\n",
    "Load the query from patients.json and fetch the data using SSBClient."
   ]
  },
  {
   "cell_type": "code",
   "execution_count": 18,
   "id": "50038230",
   "metadata": {},
   "outputs": [
    {
     "data": {
      "text/html": [
       "<div>\n",
       "<style scoped>\n",
       "    .dataframe tbody tr th:only-of-type {\n",
       "        vertical-align: middle;\n",
       "    }\n",
       "\n",
       "    .dataframe tbody tr th {\n",
       "        vertical-align: top;\n",
       "    }\n",
       "\n",
       "    .dataframe thead th {\n",
       "        text-align: right;\n",
       "    }\n",
       "</style>\n",
       "<table border=\"1\" class=\"dataframe\">\n",
       "  <thead>\n",
       "    <tr style=\"text-align: right;\">\n",
       "      <th></th>\n",
       "      <th>Region</th>\n",
       "      <th>Diagnose3</th>\n",
       "      <th>ContentsCode</th>\n",
       "      <th>Tid</th>\n",
       "      <th>value</th>\n",
       "    </tr>\n",
       "  </thead>\n",
       "  <tbody>\n",
       "    <tr>\n",
       "      <th>0</th>\n",
       "      <td>Total</td>\n",
       "      <td>Acute respiratory infections</td>\n",
       "      <td>Number of in-patient stays (discharges)</td>\n",
       "      <td>2012</td>\n",
       "      <td>11083</td>\n",
       "    </tr>\n",
       "    <tr>\n",
       "      <th>1</th>\n",
       "      <td>Total</td>\n",
       "      <td>Acute respiratory infections</td>\n",
       "      <td>Number of in-patient stays (discharges)</td>\n",
       "      <td>2013</td>\n",
       "      <td>10589</td>\n",
       "    </tr>\n",
       "    <tr>\n",
       "      <th>2</th>\n",
       "      <td>Total</td>\n",
       "      <td>Acute respiratory infections</td>\n",
       "      <td>Number of in-patient stays (discharges)</td>\n",
       "      <td>2014</td>\n",
       "      <td>9937</td>\n",
       "    </tr>\n",
       "    <tr>\n",
       "      <th>3</th>\n",
       "      <td>Total</td>\n",
       "      <td>Acute respiratory infections</td>\n",
       "      <td>Number of in-patient stays (discharges)</td>\n",
       "      <td>2015</td>\n",
       "      <td>9033</td>\n",
       "    </tr>\n",
       "    <tr>\n",
       "      <th>4</th>\n",
       "      <td>Total</td>\n",
       "      <td>Acute respiratory infections</td>\n",
       "      <td>Number of in-patient stays (discharges)</td>\n",
       "      <td>2016</td>\n",
       "      <td>9783</td>\n",
       "    </tr>\n",
       "  </tbody>\n",
       "</table>\n",
       "</div>"
      ],
      "text/plain": [
       "  Region                     Diagnose3  \\\n",
       "0  Total  Acute respiratory infections   \n",
       "1  Total  Acute respiratory infections   \n",
       "2  Total  Acute respiratory infections   \n",
       "3  Total  Acute respiratory infections   \n",
       "4  Total  Acute respiratory infections   \n",
       "\n",
       "                              ContentsCode   Tid  value  \n",
       "0  Number of in-patient stays (discharges)  2012  11083  \n",
       "1  Number of in-patient stays (discharges)  2013  10589  \n",
       "2  Number of in-patient stays (discharges)  2014   9937  \n",
       "3  Number of in-patient stays (discharges)  2015   9033  \n",
       "4  Number of in-patient stays (discharges)  2016   9783  "
      ]
     },
     "execution_count": 18,
     "metadata": {},
     "output_type": "execute_result"
    }
   ],
   "source": [
    "import json\n",
    "with open('../../config/queries/patients.json', 'r') as f:\n",
    "    patients_query = json.load(f)\n",
    "\n",
    "client = SSBClient()\n",
    "df_patients = client.query('10261', patients_query)\n",
    "df_patients.head()"
   ]
  },
  {
   "cell_type": "code",
   "execution_count": 19,
   "id": "f4ea11b9",
   "metadata": {},
   "outputs": [],
   "source": [
    "df_patients.drop(columns=['Diagnose3'], inplace=True)\n",
    "df_patients.rename(columns={'Region': 'county', 'ContentsCode': 'variable', 'value': 'patient_count', 'Tid': \"year\"}, inplace=True)"
   ]
  },
  {
   "cell_type": "code",
   "execution_count": 22,
   "id": "25d01f1c",
   "metadata": {},
   "outputs": [],
   "source": [
    "df_patients.to_csv('../../data/patients.csv', index=False)"
   ]
  },
  {
   "cell_type": "code",
   "execution_count": 32,
   "id": "9e4fbdb7",
   "metadata": {},
   "outputs": [],
   "source": [
    "df_patients = pd.read_csv('../../data/patients.csv')"
   ]
  },
  {
   "cell_type": "code",
   "execution_count": 33,
   "id": "dc302050",
   "metadata": {},
   "outputs": [],
   "source": [
    "# Create unique region IDs and reduced IDs for merged regions\n",
    "import numpy as np\n",
    "\n",
    "region_map = {\n",
    "    'Total': 'total',\n",
    "    'Østfold': 'ostfold',\n",
    "    'Akershus': 'akershus',\n",
    "    'Viken (2020-2023)': 'viken',\n",
    "    'Østfold (-2019)': 'ostfold_old',\n",
    "    'Akershus (-2019)': 'akershus_old',\n",
    "    'Oslo': 'oslo',\n",
    "    'Innlandet': 'innlandet',\n",
    "    'Hedmark (-2019)': 'hedmark_old',\n",
    "    'Oppland (-2019)': 'oppland_old',\n",
    "    'Buskerud': 'buskerud',\n",
    "    'Buskerud (-2019)': 'buskerud_old',\n",
    "    'Vestfold': 'vestfold',\n",
    "    'Telemark': 'telemark',\n",
    "    'Vestfold og Telemark (2020-2023)': 'vestfold_telemark',\n",
    "    'Vestfold (-2019)': 'vestfold_old',\n",
    "    'Telemark (-2019)': 'telemark_old',\n",
    "    'Agder': 'agder',\n",
    "    'Aust-Agder (-2019)': 'aust_agder_old',\n",
    "    'Vest-Agder (-2019)': 'vest_agder_old',\n",
    "    'Rogaland': 'rogaland',\n",
    "    'Vestland': 'vestland',\n",
    "    'Hordaland (-2019)': 'hordaland_old',\n",
    "    'Sogn og Fjordane (-2019)': 'sogn_fjordane_old',\n",
    "    'Møre og Romsdal': 'more_romsdal',\n",
    "    'Trøndelag - Trööndelage': 'trondelag',\n",
    "    'Sør-Trøndelag (-2017)': 'sor_trondelag_old',\n",
    "    'Nord-Trøndelag (-2017)': 'nord_trondelag_old',\n",
    "    'Nordland - Nordlánnda': 'nordland',\n",
    "    'Troms - Romsa - Tromssa': 'troms',\n",
    "    'Finnmark - Finnmárku - Finmarkku': 'finnmark',\n",
    "    'Troms og Finnmark - Romsa ja Finnmárku (2020-2023)': 'troms_finnmark',\n",
    "    'Troms - Romsa (-2019)': 'troms_old',\n",
    "    'Finnmark - Finnmárku (-2019)': 'finnmark_old',\n",
    "    'Unknown': 'unknown'\n",
    "}\n",
    "\n",
    "# Assign unique region IDs\n",
    "df_patients['county_id'] = df_patients['county'].map(region_map)\n",
    "\n",
    "# Reduced region ID: combine merged regions\n",
    "def reduce_region(region):\n",
    "    if region in ['Østfold', 'Østfold (-2019)']:\n",
    "        return 'ostfold'\n",
    "    if region in ['Akershus', 'Akershus (-2019)']:\n",
    "        return 'akershus'\n",
    "    if region in ['Buskerud', 'Buskerud (-2019)']:\n",
    "        return 'buskerud'\n",
    "    if region in ['Vestfold', 'Vestfold (-2019)']:\n",
    "        return 'vestfold'\n",
    "    if region in ['Telemark', 'Telemark (-2019)']:\n",
    "        return 'telemark'\n",
    "    if region in ['Troms - Romsa - Tromssa', 'Troms - Romsa (-2019)']:\n",
    "        return 'troms'\n",
    "    if region in ['Finnmark - Finnmárku - Finmarkku', 'Finnmark - Finnmárku (-2019)']:\n",
    "        return 'finnmark'\n",
    "    if region in ['Sør-Trøndelag (-2017)', 'Nord-Trøndelag (-2017)', 'Trøndelag - Trööndelage']:\n",
    "        return 'trondelag'\n",
    "    return region_map.get(region, 'unknown')\n",
    "\n",
    "df_patients['county_reduced'] = df_patients['county'].apply(reduce_region)"
   ]
  },
  {
   "cell_type": "code",
   "execution_count": 39,
   "id": "ddbc0e94",
   "metadata": {},
   "outputs": [],
   "source": [
    "df_patients[\"variable\"] = df_patients.variable.map({'Number of in-patient stays (discharges)': 'inpatient_stays', 'Number of out-patient consultations': 'outpatient_consultations'})"
   ]
  },
  {
   "cell_type": "code",
   "execution_count": 40,
   "id": "6ece8e10",
   "metadata": {},
   "outputs": [
    {
     "name": "stderr",
     "output_type": "stream",
     "text": [
      "/var/folders/56/097r5m_53z97wd0wwmqws76m0000gn/T/ipykernel_66207/1898915539.py:4: FutureWarning: The provided callable <function sum at 0x114844680> is currently using SeriesGroupBy.sum. In a future version of pandas, the provided callable will be used directly. To keep current behavior pass the string \"sum\" instead.\n",
      "  df_patients = df_patients.groupby(['year', 'county_reduced']).agg({'inpatient_stays': np.sum, 'outpatient_consultations': np.sum}).reset_index()\n",
      "/var/folders/56/097r5m_53z97wd0wwmqws76m0000gn/T/ipykernel_66207/1898915539.py:4: FutureWarning: The provided callable <function sum at 0x114844680> is currently using SeriesGroupBy.sum. In a future version of pandas, the provided callable will be used directly. To keep current behavior pass the string \"sum\" instead.\n",
      "  df_patients = df_patients.groupby(['year', 'county_reduced']).agg({'inpatient_stays': np.sum, 'outpatient_consultations': np.sum}).reset_index()\n"
     ]
    }
   ],
   "source": [
    "# pivot longer at variable\n",
    "df_patients = df_patients.pivot_table(index=['year', 'county', 'county_id', 'county_reduced'], columns='variable', values='patient_count', fill_value=0).reset_index()\n",
    "# aggregate to yearly counts by reduced county\n",
    "df_patients = df_patients.groupby(['year', 'county_reduced']).agg({'inpatient_stays': np.sum, 'outpatient_consultations': np.sum}).reset_index()"
   ]
  },
  {
   "cell_type": "code",
   "execution_count": 42,
   "id": "4aa64669",
   "metadata": {},
   "outputs": [
    {
     "data": {
      "text/plain": [
       "county_reduced\n",
       "agder                13\n",
       "akershus             13\n",
       "aust_agder_old       13\n",
       "buskerud             13\n",
       "finnmark             13\n",
       "hedmark_old          13\n",
       "hordaland_old        13\n",
       "innlandet            13\n",
       "more_romsdal         13\n",
       "nordland             13\n",
       "oppland_old          13\n",
       "oslo                 13\n",
       "ostfold              13\n",
       "rogaland             13\n",
       "sogn_fjordane_old    13\n",
       "telemark             13\n",
       "total                13\n",
       "troms                13\n",
       "troms_finnmark       13\n",
       "trondelag            13\n",
       "unknown              13\n",
       "vest_agder_old       13\n",
       "vestfold             13\n",
       "vestfold_telemark    13\n",
       "vestland             13\n",
       "viken                13\n",
       "Name: count, dtype: int64"
      ]
     },
     "execution_count": 42,
     "metadata": {},
     "output_type": "execute_result"
    }
   ],
   "source": [
    "df_patients.county_reduced.value_counts()"
   ]
  }
 ],
 "metadata": {
  "kernelspec": {
   "display_name": "evs-and-health",
   "language": "python",
   "name": "python3"
  },
  "language_info": {
   "codemirror_mode": {
    "name": "ipython",
    "version": 3
   },
   "file_extension": ".py",
   "mimetype": "text/x-python",
   "name": "python",
   "nbconvert_exporter": "python",
   "pygments_lexer": "ipython3",
   "version": "3.13.7"
  }
 },
 "nbformat": 4,
 "nbformat_minor": 5
}
